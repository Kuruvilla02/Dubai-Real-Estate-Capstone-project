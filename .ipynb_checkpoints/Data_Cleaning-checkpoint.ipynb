{
 "cells": [
  {
   "cell_type": "code",
   "execution_count": 1,
   "id": "ece7bbfe-ec25-4a5b-9f2e-2cdc5b133029",
   "metadata": {},
   "outputs": [],
   "source": [
    "import pandas as pd\n",
    "import numpy as np"
   ]
  },
  {
   "cell_type": "code",
   "execution_count": 2,
   "id": "2ae8f4fa-5778-43e4-9e35-f50fa0ef12a5",
   "metadata": {},
   "outputs": [],
   "source": [
    "dataset1 = \"Datasets/dataframeAreasWithALLCoord.csv\"\n",
    "dataset2 = \"Datasets/dataframeProjectWithALLCoord.csv\"\n",
    "dataset3 = \"Datasets/transactions-2023-07-02.csv\""
   ]
  },
  {
   "cell_type": "code",
   "execution_count": 3,
   "id": "7c5f70cd-dbdc-4a93-879d-baa806862c3e",
   "metadata": {},
   "outputs": [],
   "source": [
    "df1 = pd.read_csv(dataset1)\n",
    "df2 = pd.read_csv(dataset2)\n",
    "df3 = pd.read_csv(dataset3)"
   ]
  },
  {
   "cell_type": "code",
   "execution_count": 4,
   "id": "2ffe495b-8855-43bd-aef9-3962b8cbb86b",
   "metadata": {},
   "outputs": [],
   "source": [
    "df = pd.merge(df3, df1, on='Area', how='left')\n",
    "df= pd.merge(df3, df2, on='Project', how='left')"
   ]
  },
  {
   "cell_type": "code",
   "execution_count": 5,
   "id": "052b1fc8-e47f-40f9-9d6a-d55365c107cf",
   "metadata": {},
   "outputs": [
    {
     "data": {
      "text/html": [
       "<div>\n",
       "<style scoped>\n",
       "    .dataframe tbody tr th:only-of-type {\n",
       "        vertical-align: middle;\n",
       "    }\n",
       "\n",
       "    .dataframe tbody tr th {\n",
       "        vertical-align: top;\n",
       "    }\n",
       "\n",
       "    .dataframe thead th {\n",
       "        text-align: right;\n",
       "    }\n",
       "</style>\n",
       "<table border=\"1\" class=\"dataframe\">\n",
       "  <thead>\n",
       "    <tr style=\"text-align: right;\">\n",
       "      <th></th>\n",
       "      <th>Transaction Number</th>\n",
       "      <th>Transaction Date</th>\n",
       "      <th>Transaction Type</th>\n",
       "      <th>Transaction sub type</th>\n",
       "      <th>Registration type</th>\n",
       "      <th>Is Free Hold?</th>\n",
       "      <th>Usage</th>\n",
       "      <th>Area</th>\n",
       "      <th>Property Type</th>\n",
       "      <th>Property Sub Type</th>\n",
       "      <th>...</th>\n",
       "      <th>Parking</th>\n",
       "      <th>Nearest Metro</th>\n",
       "      <th>Nearest Mall</th>\n",
       "      <th>Nearest Landmark</th>\n",
       "      <th>No. of Buyer</th>\n",
       "      <th>No. of Seller</th>\n",
       "      <th>Master Project</th>\n",
       "      <th>Project</th>\n",
       "      <th>Latitude_Project</th>\n",
       "      <th>Longitude_Project</th>\n",
       "    </tr>\n",
       "  </thead>\n",
       "  <tbody>\n",
       "    <tr>\n",
       "      <th>0</th>\n",
       "      <td>102-1-2023</td>\n",
       "      <td>2023-01-02 07:25:49</td>\n",
       "      <td>Sales</td>\n",
       "      <td>Sell - Pre registration</td>\n",
       "      <td>Off-Plan</td>\n",
       "      <td>Free Hold</td>\n",
       "      <td>Residential</td>\n",
       "      <td>BUSINESS BAY</td>\n",
       "      <td>Unit</td>\n",
       "      <td>Flat</td>\n",
       "      <td>...</td>\n",
       "      <td>1</td>\n",
       "      <td>Business Bay Metro Station</td>\n",
       "      <td>Dubai Mall</td>\n",
       "      <td>Downtown Dubai</td>\n",
       "      <td>1</td>\n",
       "      <td>1</td>\n",
       "      <td>NaN</td>\n",
       "      <td>AYKON CITY 3</td>\n",
       "      <td>25.11072</td>\n",
       "      <td>55.38869</td>\n",
       "    </tr>\n",
       "    <tr>\n",
       "      <th>1</th>\n",
       "      <td>102-10-2023</td>\n",
       "      <td>2023-01-02 08:06:49</td>\n",
       "      <td>Sales</td>\n",
       "      <td>Sell - Pre registration</td>\n",
       "      <td>Off-Plan</td>\n",
       "      <td>Free Hold</td>\n",
       "      <td>Residential</td>\n",
       "      <td>BUSINESS BAY</td>\n",
       "      <td>Unit</td>\n",
       "      <td>Flat</td>\n",
       "      <td>...</td>\n",
       "      <td>1</td>\n",
       "      <td>Business Bay Metro Station</td>\n",
       "      <td>Dubai Mall</td>\n",
       "      <td>Downtown Dubai</td>\n",
       "      <td>1</td>\n",
       "      <td>1</td>\n",
       "      <td>NaN</td>\n",
       "      <td>AYKON CITY 3</td>\n",
       "      <td>25.11072</td>\n",
       "      <td>55.38869</td>\n",
       "    </tr>\n",
       "    <tr>\n",
       "      <th>2</th>\n",
       "      <td>102-100-2023</td>\n",
       "      <td>2023-01-02 09:01:22</td>\n",
       "      <td>Sales</td>\n",
       "      <td>Sell - Pre registration</td>\n",
       "      <td>Off-Plan</td>\n",
       "      <td>Free Hold</td>\n",
       "      <td>Residential</td>\n",
       "      <td>Al Wasl</td>\n",
       "      <td>Unit</td>\n",
       "      <td>Flat</td>\n",
       "      <td>...</td>\n",
       "      <td>1</td>\n",
       "      <td>NaN</td>\n",
       "      <td>NaN</td>\n",
       "      <td>NaN</td>\n",
       "      <td>1</td>\n",
       "      <td>1</td>\n",
       "      <td>NaN</td>\n",
       "      <td>Fern</td>\n",
       "      <td>24.99426</td>\n",
       "      <td>55.16346</td>\n",
       "    </tr>\n",
       "    <tr>\n",
       "      <th>3</th>\n",
       "      <td>102-1000-2023</td>\n",
       "      <td>2023-01-05 13:26:06</td>\n",
       "      <td>Sales</td>\n",
       "      <td>Sell - Pre registration</td>\n",
       "      <td>Off-Plan</td>\n",
       "      <td>Free Hold</td>\n",
       "      <td>Residential</td>\n",
       "      <td>JUMEIRAH LAKES TOWERS</td>\n",
       "      <td>Unit</td>\n",
       "      <td>Flat</td>\n",
       "      <td>...</td>\n",
       "      <td>1</td>\n",
       "      <td>Damac Properties</td>\n",
       "      <td>Marina Mall</td>\n",
       "      <td>Burj Al Arab</td>\n",
       "      <td>1</td>\n",
       "      <td>1</td>\n",
       "      <td>NaN</td>\n",
       "      <td>SEVEN CITY JLT</td>\n",
       "      <td>25.07052</td>\n",
       "      <td>55.14381</td>\n",
       "    </tr>\n",
       "    <tr>\n",
       "      <th>4</th>\n",
       "      <td>102-10000-2023</td>\n",
       "      <td>2023-03-01 16:02:19</td>\n",
       "      <td>Sales</td>\n",
       "      <td>Sell - Pre registration</td>\n",
       "      <td>Off-Plan</td>\n",
       "      <td>Free Hold</td>\n",
       "      <td>Residential</td>\n",
       "      <td>JUMEIRAH VILLAGE CIRCLE</td>\n",
       "      <td>Unit</td>\n",
       "      <td>Flat</td>\n",
       "      <td>...</td>\n",
       "      <td>1</td>\n",
       "      <td>Dubai Internet City</td>\n",
       "      <td>Marina Mall</td>\n",
       "      <td>Sports City Swimming Academy</td>\n",
       "      <td>1</td>\n",
       "      <td>1</td>\n",
       "      <td>NaN</td>\n",
       "      <td>Binghatti Corner</td>\n",
       "      <td>25.11000</td>\n",
       "      <td>55.20418</td>\n",
       "    </tr>\n",
       "  </tbody>\n",
       "</table>\n",
       "<p>5 rows × 24 columns</p>\n",
       "</div>"
      ],
      "text/plain": [
       "  Transaction Number     Transaction Date Transaction Type  \\\n",
       "0         102-1-2023  2023-01-02 07:25:49            Sales   \n",
       "1        102-10-2023  2023-01-02 08:06:49            Sales   \n",
       "2       102-100-2023  2023-01-02 09:01:22            Sales   \n",
       "3      102-1000-2023  2023-01-05 13:26:06            Sales   \n",
       "4     102-10000-2023  2023-03-01 16:02:19            Sales   \n",
       "\n",
       "      Transaction sub type Registration type Is Free Hold?        Usage  \\\n",
       "0  Sell - Pre registration          Off-Plan     Free Hold  Residential   \n",
       "1  Sell - Pre registration          Off-Plan     Free Hold  Residential   \n",
       "2  Sell - Pre registration          Off-Plan     Free Hold  Residential   \n",
       "3  Sell - Pre registration          Off-Plan     Free Hold  Residential   \n",
       "4  Sell - Pre registration          Off-Plan     Free Hold  Residential   \n",
       "\n",
       "                      Area Property Type Property Sub Type  ...  Parking  \\\n",
       "0             BUSINESS BAY          Unit              Flat  ...        1   \n",
       "1             BUSINESS BAY          Unit              Flat  ...        1   \n",
       "2                  Al Wasl          Unit              Flat  ...        1   \n",
       "3    JUMEIRAH LAKES TOWERS          Unit              Flat  ...        1   \n",
       "4  JUMEIRAH VILLAGE CIRCLE          Unit              Flat  ...        1   \n",
       "\n",
       "                Nearest Metro  Nearest Mall              Nearest Landmark  \\\n",
       "0  Business Bay Metro Station    Dubai Mall                Downtown Dubai   \n",
       "1  Business Bay Metro Station    Dubai Mall                Downtown Dubai   \n",
       "2                         NaN           NaN                           NaN   \n",
       "3            Damac Properties   Marina Mall                  Burj Al Arab   \n",
       "4         Dubai Internet City   Marina Mall  Sports City Swimming Academy   \n",
       "\n",
       "  No. of Buyer No. of Seller Master Project           Project  \\\n",
       "0            1             1            NaN      AYKON CITY 3   \n",
       "1            1             1            NaN      AYKON CITY 3   \n",
       "2            1             1            NaN              Fern   \n",
       "3            1             1            NaN    SEVEN CITY JLT   \n",
       "4            1             1            NaN  Binghatti Corner   \n",
       "\n",
       "   Latitude_Project  Longitude_Project  \n",
       "0          25.11072           55.38869  \n",
       "1          25.11072           55.38869  \n",
       "2          24.99426           55.16346  \n",
       "3          25.07052           55.14381  \n",
       "4          25.11000           55.20418  \n",
       "\n",
       "[5 rows x 24 columns]"
      ]
     },
     "execution_count": 5,
     "metadata": {},
     "output_type": "execute_result"
    }
   ],
   "source": [
    "df.head()"
   ]
  },
  {
   "cell_type": "code",
   "execution_count": 6,
   "id": "81317951-fd4a-469a-bc8c-b49c460f83a1",
   "metadata": {},
   "outputs": [
    {
     "data": {
      "text/plain": [
       "(81601, 24)"
      ]
     },
     "execution_count": 6,
     "metadata": {},
     "output_type": "execute_result"
    }
   ],
   "source": [
    "df.shape"
   ]
  },
  {
   "cell_type": "code",
   "execution_count": 23,
   "id": "25b8097d-b743-43a9-a673-d722db1a8430",
   "metadata": {},
   "outputs": [],
   "source": [
    "df.columns\n",
    "df_ml = df.copy()"
   ]
  },
  {
   "cell_type": "code",
   "execution_count": 25,
   "id": "86852840-9aeb-47c4-a998-2174960e35ec",
   "metadata": {},
   "outputs": [
    {
     "name": "stdout",
     "output_type": "stream",
     "text": [
      "Property Sub Type           1159\n",
      "Transaction Size (sq.m)      483\n",
      "Room(s)                    15019\n",
      "Parking                    23764\n",
      "Nearest Metro              27042\n",
      "Nearest Mall               27101\n",
      "Nearest Landmark           17716\n",
      "Master Project             81487\n",
      "Project                    17723\n",
      "dtype: int64\n"
     ]
    }
   ],
   "source": [
    "# Function to count null values in each column\n",
    "def null_col(df_ml):\n",
    "    null_counts = df_ml.isnull().sum()\n",
    "    null_columns = null_counts[null_counts > 0].index\n",
    "    print(null_counts[null_columns])\n",
    "null_col(df_ml)"
   ]
  },
  {
   "cell_type": "code",
   "execution_count": 26,
   "id": "170b9964-3bbe-4a47-90bc-1cba7b67d27e",
   "metadata": {},
   "outputs": [
    {
     "data": {
      "text/plain": [
       "0        NaN\n",
       "1        NaN\n",
       "2        NaN\n",
       "3        NaN\n",
       "4        NaN\n",
       "        ... \n",
       "81596    NaN\n",
       "81597    NaN\n",
       "81598    NaN\n",
       "81599    NaN\n",
       "81600    NaN\n",
       "Name: Master Project, Length: 81601, dtype: object"
      ]
     },
     "execution_count": 26,
     "metadata": {},
     "output_type": "execute_result"
    }
   ],
   "source": [
    "df_ml['Master Project']"
   ]
  },
  {
   "cell_type": "code",
   "execution_count": 27,
   "id": "5ee76711-23a1-497a-81e8-82a7e2425525",
   "metadata": {},
   "outputs": [
    {
     "name": "stdout",
     "output_type": "stream",
     "text": [
      "Property Sub Type           1159\n",
      "Transaction Size (sq.m)      483\n",
      "Room(s)                    15019\n",
      "Parking                    23764\n",
      "Nearest Metro              27042\n",
      "Nearest Mall               27101\n",
      "Nearest Landmark           17716\n",
      "Project                    17723\n",
      "dtype: int64\n"
     ]
    }
   ],
   "source": [
    "# Majority columns null in the column therfore dropping\n",
    "df_ml = df_ml.drop(columns='Master Project')\n",
    "null_col(df_ml)"
   ]
  },
  {
   "cell_type": "code",
   "execution_count": 31,
   "id": "c935fdea-b916-4a08-833f-6a4085b1d7d3",
   "metadata": {},
   "outputs": [
    {
     "name": "stdout",
     "output_type": "stream",
     "text": [
      "Room(s)             13387\n",
      "Parking             22133\n",
      "Nearest Metro       25623\n",
      "Nearest Mall        25686\n",
      "Nearest Landmark    16350\n",
      "Project             16561\n",
      "dtype: int64\n"
     ]
    }
   ],
   "source": [
    "df_ml = df_ml.dropna(subset=['Property Sub Type'])\n",
    "df_ml = df_ml.dropna(subset=['Transaction Size (sq.m)'])\n",
    "null_col(df_ml)"
   ]
  },
  {
   "cell_type": "code",
   "execution_count": 34,
   "id": "7ec91f3d-b7f0-4185-9e95-0d0544529c43",
   "metadata": {},
   "outputs": [],
   "source": [
    "df_ml['Project'].fillna('Unknown', inplace=True)"
   ]
  },
  {
   "cell_type": "code",
   "execution_count": 37,
   "id": "1dc756d9-f6b3-4ee7-bcff-4eef50fce350",
   "metadata": {},
   "outputs": [
    {
     "name": "stdout",
     "output_type": "stream",
     "text": [
      "Room(s)    13387\n",
      "Parking    22133\n",
      "dtype: int64\n"
     ]
    }
   ],
   "source": [
    "df_ml['Nearest Landmark'].fillna('None', inplace=True)\n",
    "df_ml['Nearest Metro'].fillna('None', inplace=True)\n",
    "df_ml['Nearest Mall'].fillna('None', inplace=True)\n",
    "null_col(df_ml)"
   ]
  },
  {
   "cell_type": "code",
   "execution_count": 39,
   "id": "4404de49-2c69-4fb0-ac12-d069c3fdcf14",
   "metadata": {},
   "outputs": [],
   "source": [
    "\"\"\"\n",
    "Parking can be subjective as not all listings need not give parking, \n",
    "therfore it can either be imputed using an imputer function or by\n",
    "making all nan values into 0\n",
    "\"\"\"\n",
    "df_ml['Parking'].fillna(0, inplace=True)"
   ]
  },
  {
   "cell_type": "code",
   "execution_count": 40,
   "id": "a0052610-11b3-4f5a-94ec-ccf4b08ae52f",
   "metadata": {},
   "outputs": [
    {
     "name": "stdout",
     "output_type": "stream",
     "text": [
      "Room(s)    13387\n",
      "dtype: int64\n"
     ]
    }
   ],
   "source": [
    "null_col(df_ml)"
   ]
  },
  {
   "cell_type": "code",
   "execution_count": 47,
   "id": "3dbf2633-f7a2-42a6-92bd-78153dd852a7",
   "metadata": {},
   "outputs": [
    {
     "name": "stdout",
     "output_type": "stream",
     "text": [
      "Transaction Number         0\n",
      "Transaction Date           0\n",
      "Transaction Type           0\n",
      "Transaction sub type       0\n",
      "Registration type          0\n",
      "Is Free Hold?              0\n",
      "Usage                      0\n",
      "Area                       0\n",
      "Property Type              0\n",
      "Property Sub Type          0\n",
      "Amount                     0\n",
      "Transaction Size (sq.m)    0\n",
      "Property Size (sq.m)       0\n",
      "Room(s)                    0\n",
      "Parking                    0\n",
      "Nearest Metro              0\n",
      "Nearest Mall               0\n",
      "Nearest Landmark           0\n",
      "No. of Buyer               0\n",
      "No. of Seller              0\n",
      "Project                    0\n",
      "Latitude_Project           0\n",
      "Longitude_Project          0\n",
      "dtype: int64\n"
     ]
    }
   ],
   "source": [
    "from sklearn.impute import KNNImputer\n",
    "df_ml_imputed = df_ml.copy()\n",
    "columns_to_impute = ['Room(s)']\n",
    "room_mapping = {\n",
    "    'Studio': 0,\n",
    "    '1 B/R': 1,\n",
    "    '2 B/R': 2,\n",
    "    '3 B/R': 3,\n",
    "    '4 B/R': 4,\n",
    "    '5 B/R': 5,\n",
    "    '6 B/R': 6,\n",
    "    '7 B/R': 7,\n",
    "    '9 B/R': 9,\n",
    "    'Single Room': 1, \n",
    "    'PENTHOUSE': 8,   \n",
    "    'Shop': 10,       \n",
    "    'Office': 11,    \n",
    "    'GYM': 12,        \n",
    "    'Hotel': 13       \n",
    "}\n",
    "df_ml_imputed['Room(s)'] = df_ml_imputed['Room(s)'].map(room_mapping)\n",
    "knn_imputer = KNNImputer(n_neighbors=5)\n",
    "df_ml_imputed[columns_to_impute] = knn_imputer.fit_transform(df_ml_imputed[columns_to_impute])\n",
    "print(df_ml_imputed.isnull().sum())"
   ]
  },
  {
   "cell_type": "code",
   "execution_count": 50,
   "id": "824c87db-f74f-45ab-bc89-d9bbe55bb193",
   "metadata": {},
   "outputs": [],
   "source": [
    "df_ml = df_ml_imputed"
   ]
  },
  {
   "cell_type": "code",
   "execution_count": 51,
   "id": "c58f1078-100f-4ebd-88ff-ac1177c08aad",
   "metadata": {},
   "outputs": [
    {
     "name": "stdout",
     "output_type": "stream",
     "text": [
      "Series([], dtype: int64)\n"
     ]
    }
   ],
   "source": [
    "null_col(df_ml)"
   ]
  },
  {
   "cell_type": "code",
   "execution_count": 52,
   "id": "b6329de1-cdfe-4697-99ba-3aa05fd18b47",
   "metadata": {},
   "outputs": [
    {
     "name": "stdout",
     "output_type": "stream",
     "text": [
      "DataFrame exported to Datasets/listings_cleaned.csv\n"
     ]
    }
   ],
   "source": [
    "csv_path = 'Datasets/listings_cleaned.csv'\n",
    "df_ml.to_csv(csv_path, index=False)\n",
    "print(f'DataFrame exported to {csv_path}')"
   ]
  },
  {
   "cell_type": "code",
   "execution_count": null,
   "id": "f42f2038-e214-4839-9cea-004349bc6255",
   "metadata": {},
   "outputs": [],
   "source": []
  }
 ],
 "metadata": {
  "kernelspec": {
   "display_name": "Python 3 (ipykernel)",
   "language": "python",
   "name": "python3"
  },
  "language_info": {
   "codemirror_mode": {
    "name": "ipython",
    "version": 3
   },
   "file_extension": ".py",
   "mimetype": "text/x-python",
   "name": "python",
   "nbconvert_exporter": "python",
   "pygments_lexer": "ipython3",
   "version": "3.12.0"
  }
 },
 "nbformat": 4,
 "nbformat_minor": 5
}
