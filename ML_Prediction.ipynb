{
 "cells": [
  {
   "cell_type": "code",
   "execution_count": 48,
   "id": "78f65efc-f74c-4539-95c5-daf2cc9a01ab",
   "metadata": {},
   "outputs": [],
   "source": [
    "import pandas as pd\n",
    "import numpy as np"
   ]
  },
  {
   "cell_type": "code",
   "execution_count": 49,
   "id": "410adaec-08c1-4217-96ac-0a8f5a895ad4",
   "metadata": {},
   "outputs": [],
   "source": [
    "file_path = \"Datasets/listings_cleaned.csv\"\n",
    "df = pd.read_csv(file_path, low_memory=False)"
   ]
  },
  {
   "cell_type": "code",
   "execution_count": 50,
   "id": "3b4d0d9e-291f-4c93-8905-ce2124851aed",
   "metadata": {},
   "outputs": [
    {
     "data": {
      "text/plain": [
       "(79959, 23)"
      ]
     },
     "execution_count": 50,
     "metadata": {},
     "output_type": "execute_result"
    }
   ],
   "source": [
    "df.shape"
   ]
  },
  {
   "cell_type": "code",
   "execution_count": 51,
   "id": "945d7bd5-801b-46a8-9465-87f9c48bace4",
   "metadata": {},
   "outputs": [],
   "source": [
    "selected_features = ['Transaction Type', 'Transaction sub type', 'Registration type',\n",
    "                     'Is Free Hold?', 'Usage', 'Area', 'Property Type',\n",
    "                     'Property Sub Type', 'Amount', 'Transaction Size (sq.m)',\n",
    "                     'Property Size (sq.m)', 'Room(s)', 'Parking', 'Nearest Metro',\n",
    "                     'Nearest Mall', 'Nearest Landmark', 'No. of Buyer', 'No. of Seller',\n",
    "                     'Project']\n",
    "df_ml = df[selected_features]"
   ]
  },
  {
   "cell_type": "code",
   "execution_count": 52,
   "id": "5258c276-f631-4996-9740-0b4b71e21fd0",
   "metadata": {},
   "outputs": [
    {
     "data": {
      "text/html": [
       "<div>\n",
       "<style scoped>\n",
       "    .dataframe tbody tr th:only-of-type {\n",
       "        vertical-align: middle;\n",
       "    }\n",
       "\n",
       "    .dataframe tbody tr th {\n",
       "        vertical-align: top;\n",
       "    }\n",
       "\n",
       "    .dataframe thead th {\n",
       "        text-align: right;\n",
       "    }\n",
       "</style>\n",
       "<table border=\"1\" class=\"dataframe\">\n",
       "  <thead>\n",
       "    <tr style=\"text-align: right;\">\n",
       "      <th></th>\n",
       "      <th>Transaction Type</th>\n",
       "      <th>Transaction sub type</th>\n",
       "      <th>Registration type</th>\n",
       "      <th>Is Free Hold?</th>\n",
       "      <th>Usage</th>\n",
       "      <th>Area</th>\n",
       "      <th>Property Type</th>\n",
       "      <th>Property Sub Type</th>\n",
       "      <th>Amount</th>\n",
       "      <th>Transaction Size (sq.m)</th>\n",
       "      <th>Property Size (sq.m)</th>\n",
       "      <th>Room(s)</th>\n",
       "      <th>Parking</th>\n",
       "      <th>Nearest Metro</th>\n",
       "      <th>Nearest Mall</th>\n",
       "      <th>Nearest Landmark</th>\n",
       "      <th>No. of Buyer</th>\n",
       "      <th>No. of Seller</th>\n",
       "      <th>Project</th>\n",
       "    </tr>\n",
       "  </thead>\n",
       "  <tbody>\n",
       "    <tr>\n",
       "      <th>0</th>\n",
       "      <td>Sales</td>\n",
       "      <td>Sell - Pre registration</td>\n",
       "      <td>Off-Plan</td>\n",
       "      <td>Free Hold</td>\n",
       "      <td>Residential</td>\n",
       "      <td>BUSINESS BAY</td>\n",
       "      <td>Unit</td>\n",
       "      <td>Flat</td>\n",
       "      <td>2631000.0</td>\n",
       "      <td>105.75</td>\n",
       "      <td>105.75</td>\n",
       "      <td>2.0</td>\n",
       "      <td>1</td>\n",
       "      <td>Business Bay Metro Station</td>\n",
       "      <td>Dubai Mall</td>\n",
       "      <td>Downtown Dubai</td>\n",
       "      <td>1</td>\n",
       "      <td>1</td>\n",
       "      <td>AYKON CITY 3</td>\n",
       "    </tr>\n",
       "    <tr>\n",
       "      <th>1</th>\n",
       "      <td>Sales</td>\n",
       "      <td>Sell - Pre registration</td>\n",
       "      <td>Off-Plan</td>\n",
       "      <td>Free Hold</td>\n",
       "      <td>Residential</td>\n",
       "      <td>BUSINESS BAY</td>\n",
       "      <td>Unit</td>\n",
       "      <td>Flat</td>\n",
       "      <td>1466000.0</td>\n",
       "      <td>52.29</td>\n",
       "      <td>52.29</td>\n",
       "      <td>0.0</td>\n",
       "      <td>1</td>\n",
       "      <td>Business Bay Metro Station</td>\n",
       "      <td>Dubai Mall</td>\n",
       "      <td>Downtown Dubai</td>\n",
       "      <td>1</td>\n",
       "      <td>1</td>\n",
       "      <td>AYKON CITY 3</td>\n",
       "    </tr>\n",
       "  </tbody>\n",
       "</table>\n",
       "</div>"
      ],
      "text/plain": [
       "  Transaction Type     Transaction sub type Registration type Is Free Hold?  \\\n",
       "0            Sales  Sell - Pre registration          Off-Plan     Free Hold   \n",
       "1            Sales  Sell - Pre registration          Off-Plan     Free Hold   \n",
       "\n",
       "         Usage          Area Property Type Property Sub Type     Amount  \\\n",
       "0  Residential  BUSINESS BAY          Unit              Flat  2631000.0   \n",
       "1  Residential  BUSINESS BAY          Unit              Flat  1466000.0   \n",
       "\n",
       "   Transaction Size (sq.m)  Property Size (sq.m)  Room(s) Parking  \\\n",
       "0                   105.75                105.75      2.0       1   \n",
       "1                    52.29                 52.29      0.0       1   \n",
       "\n",
       "                Nearest Metro Nearest Mall Nearest Landmark  No. of Buyer  \\\n",
       "0  Business Bay Metro Station   Dubai Mall   Downtown Dubai             1   \n",
       "1  Business Bay Metro Station   Dubai Mall   Downtown Dubai             1   \n",
       "\n",
       "   No. of Seller       Project  \n",
       "0              1  AYKON CITY 3  \n",
       "1              1  AYKON CITY 3  "
      ]
     },
     "execution_count": 52,
     "metadata": {},
     "output_type": "execute_result"
    }
   ],
   "source": [
    "df_ml.head(2)"
   ]
  },
  {
   "cell_type": "markdown",
   "id": "578be2ca-f367-45d1-9e3a-2609f31e4fbc",
   "metadata": {},
   "source": [
    "# Feature Engineering"
   ]
  },
  {
   "cell_type": "code",
   "execution_count": 53,
   "id": "7c824c08-4dd9-4820-a7da-19cc5242805e",
   "metadata": {},
   "outputs": [
    {
     "data": {
      "text/plain": [
       "Transaction Type            object\n",
       "Transaction sub type        object\n",
       "Registration type           object\n",
       "Is Free Hold?               object\n",
       "Usage                       object\n",
       "Area                        object\n",
       "Property Type               object\n",
       "Property Sub Type           object\n",
       "Amount                     float64\n",
       "Transaction Size (sq.m)    float64\n",
       "Property Size (sq.m)       float64\n",
       "Room(s)                    float64\n",
       "Parking                     object\n",
       "Nearest Metro               object\n",
       "Nearest Mall                object\n",
       "Nearest Landmark            object\n",
       "No. of Buyer                 int64\n",
       "No. of Seller                int64\n",
       "Project                     object\n",
       "dtype: object"
      ]
     },
     "execution_count": 53,
     "metadata": {},
     "output_type": "execute_result"
    }
   ],
   "source": [
    "df_ml.dtypes"
   ]
  },
  {
   "cell_type": "code",
   "execution_count": 55,
   "id": "9468429b-ce05-44b9-a2a6-588d6b431e57",
   "metadata": {},
   "outputs": [
    {
     "name": "stdout",
     "output_type": "stream",
     "text": [
      "['Gifts' 'Mortgage' 'Sales']\n"
     ]
    }
   ],
   "source": [
    "from sklearn import preprocessing \n",
    "\n",
    "label_encoder = preprocessing.LabelEncoder() \n",
    "label_encoder.fit(df_ml['Transaction Type'])\n",
    "print(label_encoder.classes_)\n",
    "\n",
    "df_ml.loc[:, 'Transaction Type'] = label_encoder.transform(df_ml['Transaction Type'])"
   ]
  },
  {
   "cell_type": "code",
   "execution_count": 59,
   "id": "6ad499d8-caf0-4895-aa2f-658e3d2515ed",
   "metadata": {},
   "outputs": [
    {
     "name": "stdout",
     "output_type": "stream",
     "text": [
      "['Adding Land By Sell' 'Delayed Development' 'Delayed Mortgage'\n",
      " 'Delayed Sell' 'Delayed Sell Lease to Own Registration'\n",
      " 'Development Mortgage' 'Development Registration'\n",
      " 'Development Registration Pre-Registration' 'Grant' 'Grant Development'\n",
      " 'Grant Pre-Registration' 'Grant on Delayed Sell'\n",
      " 'Lease Development Registration' 'Lease Finance Modification'\n",
      " 'Lease Finance Registration' 'Lease to Own Modify'\n",
      " 'Lease to Own Registration' 'Lease to Own on Development Registration'\n",
      " 'Modify Delayed Mortgage ' 'Modify Development Mortgage'\n",
      " 'Modify Mortgage' 'Mortgage Pre-Registration' 'Mortgage Registration'\n",
      " 'Mortgage Transfer' 'Mortgage Transfer Pre-Registration'\n",
      " 'Portfolio Mortgage Development Modification'\n",
      " 'Portfolio Mortgage Development Registration'\n",
      " 'Portfolio Mortgage Modification' 'Portfolio Mortgage Registration'\n",
      " 'Sale' 'Sale On Payment Plan' 'Sell - Pre registration'\n",
      " 'Sell Development' 'Sell Development - Pre Registration']\n"
     ]
    }
   ],
   "source": [
    "label_encoder = preprocessing.LabelEncoder() \n",
    "label_encoder.fit(df_ml['Transaction sub type'])\n",
    "print(label_encoder.classes_)\n",
    "df_ml.loc[:, 'Transaction sub type'] = label_encoder.transform(df_ml['Transaction sub type'])"
   ]
  },
  {
   "cell_type": "code",
   "execution_count": 62,
   "id": "fb557499-8e02-485c-bcc6-91e3ff337602",
   "metadata": {},
   "outputs": [
    {
     "data": {
      "text/plain": [
       "array(['Off-Plan', 'Ready'], dtype=object)"
      ]
     },
     "execution_count": 62,
     "metadata": {},
     "output_type": "execute_result"
    }
   ],
   "source": [
    "df_ml['Registration type'].unique()"
   ]
  },
  {
   "cell_type": "code",
   "execution_count": 63,
   "id": "439a4686-9f3c-4852-b7bd-5265db5ffb47",
   "metadata": {},
   "outputs": [
    {
     "name": "stdout",
     "output_type": "stream",
     "text": [
      "['Off-Plan' 'Ready']\n"
     ]
    }
   ],
   "source": [
    "label_encoder = preprocessing.LabelEncoder() \n",
    "label_encoder.fit(df_ml['Registration type'])\n",
    "print(label_encoder.classes_)\n",
    "df_ml.loc[:, 'Registration type'] = label_encoder.transform(df_ml['Registration type'])"
   ]
  },
  {
   "cell_type": "code",
   "execution_count": 64,
   "id": "b180a6e2-01e1-42e9-8605-c1ed11242dfe",
   "metadata": {},
   "outputs": [
    {
     "data": {
      "text/plain": [
       "array(['Free Hold', 'Non Free Hold'], dtype=object)"
      ]
     },
     "execution_count": 64,
     "metadata": {},
     "output_type": "execute_result"
    }
   ],
   "source": [
    "df_ml['Is Free Hold?'].unique()"
   ]
  },
  {
   "cell_type": "code",
   "execution_count": 65,
   "id": "37950082-5174-4b02-9b67-6a0e853f3731",
   "metadata": {},
   "outputs": [
    {
     "name": "stdout",
     "output_type": "stream",
     "text": [
      "['Free Hold' 'Non Free Hold']\n"
     ]
    }
   ],
   "source": [
    "label_encoder = preprocessing.LabelEncoder() \n",
    "label_encoder.fit(df_ml['Is Free Hold?'])\n",
    "print(label_encoder.classes_)\n",
    "df_ml.loc[:, 'Is Free Hold?'] = label_encoder.transform(df_ml['Is Free Hold?'])"
   ]
  },
  {
   "cell_type": "code",
   "execution_count": 66,
   "id": "46f263fb-aeb7-4f0a-9188-ef50d0f723a8",
   "metadata": {},
   "outputs": [
    {
     "data": {
      "text/plain": [
       "array(['Residential', 'Commercial'], dtype=object)"
      ]
     },
     "execution_count": 66,
     "metadata": {},
     "output_type": "execute_result"
    }
   ],
   "source": [
    "df_ml['Usage'].unique()"
   ]
  },
  {
   "cell_type": "code",
   "execution_count": 67,
   "id": "9499f0b7-445b-4228-b070-944ce5c5c5af",
   "metadata": {},
   "outputs": [
    {
     "name": "stdout",
     "output_type": "stream",
     "text": [
      "['Commercial' 'Residential']\n"
     ]
    }
   ],
   "source": [
    "label_encoder = preprocessing.LabelEncoder() \n",
    "label_encoder.fit(df_ml['Usage'])\n",
    "print(label_encoder.classes_)\n",
    "df_ml.loc[:, 'Usage'] = label_encoder.transform(df_ml['Usage'])"
   ]
  },
  {
   "cell_type": "code",
   "execution_count": 68,
   "id": "472a95d2-1b32-4422-b74e-8e2a08cc4d2d",
   "metadata": {},
   "outputs": [
    {
     "data": {
      "text/plain": [
       "array(['BUSINESS BAY', 'Al Wasl', 'JUMEIRAH LAKES TOWERS',\n",
       "       'JUMEIRAH VILLAGE CIRCLE', 'DUBAI CREEK HARBOUR',\n",
       "       'Madinat Dubai Almelaheyah', 'DUBAI WATER CANAL', 'DUBAI MARINA',\n",
       "       'Business Bay', 'TOWN SQUARE', 'Al Yufrah 1', 'Zaabeel First',\n",
       "       'SOBHA HEARTLAND', 'MEYDAN ONE', 'DAMAC HILLS',\n",
       "       'JUMEIRAH VILLAGE TRIANGLE', 'BURJ KHALIFA',\n",
       "       'DUBAI LAND RESIDENCE COMPLEX', 'Wadi Al Safa 5', 'Wadi Al Safa 3',\n",
       "       'THE FIELD', \"Me'Aisem First\", 'Nad Al Shiba First',\n",
       "       'PALM JUMEIRAH', 'DUBAI HILLS', 'SILICON OASIS', 'JUMEIRAH LIVING',\n",
       "       'TECOM SITE A', 'DOWN TOWN JABAL ALI', 'Um Suqaim Third',\n",
       "       'AL FURJAN', 'Marsa Dubai', 'MOTOR CITY', 'VILLANOVA', 'ARJAN',\n",
       "       'Al Hebiah Fourth', 'DUBAI SOUTH', 'Madinat Hind 4',\n",
       "       'DUBAI HARBOUR', 'Warsan First', 'Island 2', 'CITY WALK',\n",
       "       'Al Yelayiss 2', 'CHERRYWOODS', 'TILAL AL GHAF',\n",
       "       'DUBAI STUDIO CITY', 'DUBAI PRODUCTION CITY', 'THE LAKES',\n",
       "       'MBR DISTRICT 7', 'MINA RASHID',\n",
       "       'Hadaeq Sheikh Mohammed Bin Rashid', 'THE VALLEY',\n",
       "       'ARABIAN RANCHES III', 'DUBAI SCIENCE PARK', 'Jumeirah First',\n",
       "       'LA MER', 'MBR DISTRICT 1', 'Madinat Al Mataar', 'LIWAN',\n",
       "       'Al Hebiah Sixth', 'MAJAN', 'EMAAR SOUTH', 'DUBAI SPORTS CITY',\n",
       "       'JUMEIRAH BEACH RESIDENCE', 'Al Barshaa South Third',\n",
       "       'Wadi Al Safa 7', 'JUMEIRA BAY', 'Zaabeel Second',\n",
       "       'DUBAI HEALTHCARE CITY - PHASE 2', 'THE WORLD',\n",
       "       'INTERNATIONAL CITY PH 2 & 3', 'RUKAN', 'JADDAF WATERFRONT',\n",
       "       'MEYDAN AVENUE', 'DUBAI GOLF CITY', 'Jumeirah Second',\n",
       "       'LIVING LEGENDS', 'DUBAI MARITIME CITY', 'JUMEIRAH GOLF',\n",
       "       'Wadi Al Safa 2', 'DUBAI DESIGN DISTRICT', 'SUFOUH GARDENS',\n",
       "       'MARSA AL ARAB', 'INTERNATIONAL CITY PH 1', 'DISCOVERY GARDENS',\n",
       "       'Naif', 'Palm Jumeirah', 'ARABIAN RANCHES I', 'DUBAI WATER FRONT',\n",
       "       'MIRA', 'REMRAAM', 'BARSHA HEIGHTS', 'BLUEWATERS', 'THE GREENS',\n",
       "       'Mirdif', 'Jabal Ali First', 'JUMEIRAH PARK', 'EMIRATE LIVING',\n",
       "       'Al Karama', 'Al Rashidiya', 'ARABIAN RANCHES II', 'SERENA',\n",
       "       'THE VILLA', 'AL BARARI', 'Al Mizhar First', 'Al Kifaf',\n",
       "       'Al Mamzer', 'JUMEIRAH HEIGHTS', 'GRAND VIEWS', 'PEARL JUMEIRA',\n",
       "       'NAD AL SHEBA GARDENS', 'JUMEIRAH ISLANDS', 'MUDON',\n",
       "       'Al Thanyah Fifth', 'Al Barshaa South First', 'AL KHAIL HEIGHTS',\n",
       "       'Al Barsha First', 'Abu Hail', 'Al Waheda', 'Hor Al Anz',\n",
       "       'MILLENNIUM', 'Al Goze Second', 'Al Mizhar Second',\n",
       "       'Al Goze First', 'AKOYA OXYGEN', 'SUSTAINABLE CITY',\n",
       "       'Al Khawaneej Second', 'SAMA AL JADAF', 'Al Kheeran',\n",
       "       'DUBAI INDUSTRIAL CITY', 'Al Saffa First', 'Al Satwa',\n",
       "       'Wadi Alshabak', 'FALCON CITY OF WONDERS', 'Um Suqaim Second',\n",
       "       'Al Barsha Second', 'AL WAHA', 'Al Ras', 'Muhaisanah Third',\n",
       "       'Jabal Ali Industrial First', 'Al Saffa Second', 'Um Al Sheif',\n",
       "       'Al Bada', 'DUBAI HEALTHCARE CITY - PHASE 1', 'Al Murqabat',\n",
       "       'Al Warqa Third', 'Muhaisanah First', 'Al Jafliya', 'Al Lusaily',\n",
       "       'Trade Center First', 'Palm Deira', 'CITY OF ARABIA',\n",
       "       'ARABIAN RANCHES POLO CLUB', 'Port Saeed', 'Al Baraha',\n",
       "       'Nad Al Hamar', 'Eyal Nasser', 'MEDYAN RACE COURSE VILLAS',\n",
       "       'DMCC-EZ2', 'Al Twar Fourth', 'Nad Al Shiba Fourth',\n",
       "       'Al Khawaneej First', 'Al Barsha Third', 'Al Manara',\n",
       "       'Muhaisanah Second', 'Nad Al Shiba Second', 'Al Aweer Second',\n",
       "       'Mankhool', 'Al Hamriya', 'Al Suq Al Kabeer', 'Um Suqaim First',\n",
       "       'POLO TOWNHOUSES IGO', 'Wadi Al Amardi', 'Al Mararr',\n",
       "       'Jumeirah Third', 'Al Warqa First', 'Al Muteena',\n",
       "       'Hor Al Anz East', 'Al Barshaa South Second', 'Nad Al Shiba Third',\n",
       "       'Al Thanyah Third', 'Al Goze Fourth', 'Al Twar Third',\n",
       "       'Ras Al Khor Industrial Second', 'Al Hebiah Second', 'Al Buteen',\n",
       "       'Muhaisanah Fourth', 'Al Warqa Second', 'Al Nahda First',\n",
       "       'Oud Metha', 'Al Warsan Second', 'Al Qusais Industrial Fifth',\n",
       "       'Rega Al Buteen', 'Al Twar First', 'Al Garhoud', 'Al Khabeesi',\n",
       "       'Al Raffa', 'Wadi Al Safa 4', 'Al Qusais Industrial Fourth',\n",
       "       'Oud Al Muteena First', 'Al Jadaf', 'Al Qusais First', 'HORIZON',\n",
       "       'Al Dhagaya', 'Al Goze Third', 'GLOBAL VILLAGE', 'Grayteesah',\n",
       "       'Al Twar Second', 'Um Ramool', 'Al Aweer First', 'Madinat Hind 3',\n",
       "       'Nadd Hessa', 'Ras Al Khor Industrial First', 'Mushrif',\n",
       "       'Al Warqa Fourth', 'Al Yelayiss 5', 'Al Mizhar Third',\n",
       "       'Al Nahda Second', 'Al Goze Industrial Third', 'IBN BATTUTA ',\n",
       "       'PALM DEIRA', 'Nad Shamma', 'Al Rega', 'DUBAI OUTSOURCE CITY',\n",
       "       'DUBAI INVESTMENT PARK FIRST', 'Dubai Investment Park Second',\n",
       "       'Al Goze Industrial Fourth', 'Al Goze Industrial First',\n",
       "       'Al Goze Industrial Second', 'Al Qusais Industrial First',\n",
       "       'Al Qusais Industrial Third', 'Um Esalay', 'Al Hebiah Third',\n",
       "       'Al Hebiah Fifth', 'DUBAI INVESTMENT PARK SECOND',\n",
       "       'Trade Center Second', 'Lehbab First', 'Al Merkadh', 'GARDEN VIEW',\n",
       "       'THE GARDENS', 'Dubai Investment Park First', 'AL KHAIL GATE',\n",
       "       'Um Hurair Second', 'Al Rowaiyah Third', 'Remah', 'Lehbab Second',\n",
       "       'Saih Shuaib 2', 'Al Yelayiss 1'], dtype=object)"
      ]
     },
     "execution_count": 68,
     "metadata": {},
     "output_type": "execute_result"
    }
   ],
   "source": [
    "df_ml['Area'].unique()"
   ]
  },
  {
   "cell_type": "code",
   "execution_count": 69,
   "id": "5e12b6d9-1579-4368-8e30-645032417dab",
   "metadata": {},
   "outputs": [
    {
     "name": "stdout",
     "output_type": "stream",
     "text": [
      "['AKOYA OXYGEN' 'AL BARARI' 'AL FURJAN' 'AL KHAIL GATE' 'AL KHAIL HEIGHTS'\n",
      " 'AL WAHA' 'ARABIAN RANCHES I' 'ARABIAN RANCHES II' 'ARABIAN RANCHES III'\n",
      " 'ARABIAN RANCHES POLO CLUB' 'ARJAN' 'Abu Hail' 'Al Aweer First'\n",
      " 'Al Aweer Second' 'Al Bada' 'Al Baraha' 'Al Barsha First'\n",
      " 'Al Barsha Second' 'Al Barsha Third' 'Al Barshaa South First'\n",
      " 'Al Barshaa South Second' 'Al Barshaa South Third' 'Al Buteen'\n",
      " 'Al Dhagaya' 'Al Garhoud' 'Al Goze First' 'Al Goze Fourth'\n",
      " 'Al Goze Industrial First' 'Al Goze Industrial Fourth'\n",
      " 'Al Goze Industrial Second' 'Al Goze Industrial Third' 'Al Goze Second'\n",
      " 'Al Goze Third' 'Al Hamriya' 'Al Hebiah Fifth' 'Al Hebiah Fourth'\n",
      " 'Al Hebiah Second' 'Al Hebiah Sixth' 'Al Hebiah Third' 'Al Jadaf'\n",
      " 'Al Jafliya' 'Al Karama' 'Al Khabeesi' 'Al Khawaneej First'\n",
      " 'Al Khawaneej Second' 'Al Kheeran' 'Al Kifaf' 'Al Lusaily' 'Al Mamzer'\n",
      " 'Al Manara' 'Al Mararr' 'Al Merkadh' 'Al Mizhar First' 'Al Mizhar Second'\n",
      " 'Al Mizhar Third' 'Al Murqabat' 'Al Muteena' 'Al Nahda First'\n",
      " 'Al Nahda Second' 'Al Qusais First' 'Al Qusais Industrial Fifth'\n",
      " 'Al Qusais Industrial First' 'Al Qusais Industrial Fourth'\n",
      " 'Al Qusais Industrial Third' 'Al Raffa' 'Al Ras' 'Al Rashidiya' 'Al Rega'\n",
      " 'Al Rowaiyah Third' 'Al Saffa First' 'Al Saffa Second' 'Al Satwa'\n",
      " 'Al Suq Al Kabeer' 'Al Thanyah Fifth' 'Al Thanyah Third' 'Al Twar First'\n",
      " 'Al Twar Fourth' 'Al Twar Second' 'Al Twar Third' 'Al Waheda'\n",
      " 'Al Warqa First' 'Al Warqa Fourth' 'Al Warqa Second' 'Al Warqa Third'\n",
      " 'Al Warsan Second' 'Al Wasl' 'Al Yelayiss 1' 'Al Yelayiss 2'\n",
      " 'Al Yelayiss 5' 'Al Yufrah 1' 'BARSHA HEIGHTS' 'BLUEWATERS'\n",
      " 'BURJ KHALIFA' 'BUSINESS BAY' 'Business Bay' 'CHERRYWOODS'\n",
      " 'CITY OF ARABIA' 'CITY WALK' 'DAMAC HILLS' 'DISCOVERY GARDENS' 'DMCC-EZ2'\n",
      " 'DOWN TOWN JABAL ALI' 'DUBAI CREEK HARBOUR' 'DUBAI DESIGN DISTRICT'\n",
      " 'DUBAI GOLF CITY' 'DUBAI HARBOUR' 'DUBAI HEALTHCARE CITY - PHASE 1'\n",
      " 'DUBAI HEALTHCARE CITY - PHASE 2' 'DUBAI HILLS' 'DUBAI INDUSTRIAL CITY'\n",
      " 'DUBAI INVESTMENT PARK FIRST' 'DUBAI INVESTMENT PARK SECOND'\n",
      " 'DUBAI LAND RESIDENCE COMPLEX' 'DUBAI MARINA' 'DUBAI MARITIME CITY'\n",
      " 'DUBAI OUTSOURCE CITY' 'DUBAI PRODUCTION CITY' 'DUBAI SCIENCE PARK'\n",
      " 'DUBAI SOUTH' 'DUBAI SPORTS CITY' 'DUBAI STUDIO CITY' 'DUBAI WATER CANAL'\n",
      " 'DUBAI WATER FRONT' 'Dubai Investment Park First'\n",
      " 'Dubai Investment Park Second' 'EMAAR SOUTH' 'EMIRATE LIVING'\n",
      " 'Eyal Nasser' 'FALCON CITY OF WONDERS' 'GARDEN VIEW' 'GLOBAL VILLAGE'\n",
      " 'GRAND VIEWS' 'Grayteesah' 'HORIZON' 'Hadaeq Sheikh Mohammed Bin Rashid'\n",
      " 'Hor Al Anz' 'Hor Al Anz East' 'IBN BATTUTA ' 'INTERNATIONAL CITY PH 1'\n",
      " 'INTERNATIONAL CITY PH 2 & 3' 'Island 2' 'JADDAF WATERFRONT'\n",
      " 'JUMEIRA BAY' 'JUMEIRAH BEACH RESIDENCE' 'JUMEIRAH GOLF'\n",
      " 'JUMEIRAH HEIGHTS' 'JUMEIRAH ISLANDS' 'JUMEIRAH LAKES TOWERS'\n",
      " 'JUMEIRAH LIVING' 'JUMEIRAH PARK' 'JUMEIRAH VILLAGE CIRCLE'\n",
      " 'JUMEIRAH VILLAGE TRIANGLE' 'Jabal Ali First'\n",
      " 'Jabal Ali Industrial First' 'Jumeirah First' 'Jumeirah Second'\n",
      " 'Jumeirah Third' 'LA MER' 'LIVING LEGENDS' 'LIWAN' 'Lehbab First'\n",
      " 'Lehbab Second' 'MAJAN' 'MARSA AL ARAB' 'MBR DISTRICT 1' 'MBR DISTRICT 7'\n",
      " 'MEDYAN RACE COURSE VILLAS' 'MEYDAN AVENUE' 'MEYDAN ONE' 'MILLENNIUM'\n",
      " 'MINA RASHID' 'MIRA' 'MOTOR CITY' 'MUDON' 'Madinat Al Mataar'\n",
      " 'Madinat Dubai Almelaheyah' 'Madinat Hind 3' 'Madinat Hind 4' 'Mankhool'\n",
      " 'Marsa Dubai' \"Me'Aisem First\" 'Mirdif' 'Muhaisanah First'\n",
      " 'Muhaisanah Fourth' 'Muhaisanah Second' 'Muhaisanah Third' 'Mushrif'\n",
      " 'NAD AL SHEBA GARDENS' 'Nad Al Hamar' 'Nad Al Shiba First'\n",
      " 'Nad Al Shiba Fourth' 'Nad Al Shiba Second' 'Nad Al Shiba Third'\n",
      " 'Nad Shamma' 'Nadd Hessa' 'Naif' 'Oud Al Muteena First' 'Oud Metha'\n",
      " 'PALM DEIRA' 'PALM JUMEIRAH' 'PEARL JUMEIRA' 'POLO TOWNHOUSES IGO'\n",
      " 'Palm Deira' 'Palm Jumeirah' 'Port Saeed' 'REMRAAM' 'RUKAN'\n",
      " 'Ras Al Khor Industrial First' 'Ras Al Khor Industrial Second'\n",
      " 'Rega Al Buteen' 'Remah' 'SAMA AL JADAF' 'SERENA' 'SILICON OASIS'\n",
      " 'SOBHA HEARTLAND' 'SUFOUH GARDENS' 'SUSTAINABLE CITY' 'Saih Shuaib 2'\n",
      " 'TECOM SITE A' 'THE FIELD' 'THE GARDENS' 'THE GREENS' 'THE LAKES'\n",
      " 'THE VALLEY' 'THE VILLA' 'THE WORLD' 'TILAL AL GHAF' 'TOWN SQUARE'\n",
      " 'Trade Center First' 'Trade Center Second' 'Um Al Sheif' 'Um Esalay'\n",
      " 'Um Hurair Second' 'Um Ramool' 'Um Suqaim First' 'Um Suqaim Second'\n",
      " 'Um Suqaim Third' 'VILLANOVA' 'Wadi Al Amardi' 'Wadi Al Safa 2'\n",
      " 'Wadi Al Safa 3' 'Wadi Al Safa 4' 'Wadi Al Safa 5' 'Wadi Al Safa 7'\n",
      " 'Wadi Alshabak' 'Warsan First' 'Zaabeel First' 'Zaabeel Second']\n"
     ]
    }
   ],
   "source": [
    "label_encoder = preprocessing.LabelEncoder() \n",
    "label_encoder.fit(df_ml['Area'])\n",
    "print(label_encoder.classes_)\n",
    "df_ml.loc[:, 'Area'] = label_encoder.transform(df_ml['Area'])"
   ]
  },
  {
   "cell_type": "code",
   "execution_count": 70,
   "id": "91c807b8-1906-4106-81a2-75f3790e1d97",
   "metadata": {},
   "outputs": [
    {
     "data": {
      "text/plain": [
       "array(['Unit', 'Building', 'Land'], dtype=object)"
      ]
     },
     "execution_count": 70,
     "metadata": {},
     "output_type": "execute_result"
    }
   ],
   "source": [
    "df_ml['Property Type'].unique()"
   ]
  },
  {
   "cell_type": "code",
   "execution_count": 71,
   "id": "3ea98373-e414-42c4-a723-d3bd7c029a07",
   "metadata": {},
   "outputs": [
    {
     "name": "stdout",
     "output_type": "stream",
     "text": [
      "['Building' 'Land' 'Unit']\n"
     ]
    }
   ],
   "source": [
    "label_encoder = preprocessing.LabelEncoder() \n",
    "label_encoder.fit(df_ml['Property Type'])\n",
    "print(label_encoder.classes_)\n",
    "df_ml.loc[:, 'Property Type'] = label_encoder.transform(df_ml['Property Type'])"
   ]
  },
  {
   "cell_type": "code",
   "execution_count": 72,
   "id": "5984e631-54cb-4c2d-8cb6-1a9b9baec869",
   "metadata": {},
   "outputs": [
    {
     "data": {
      "text/plain": [
       "array(['Flat', 'Hotel Rooms', 'Villa', 'Hotel Apartment', 'Shop',\n",
       "       'Office', 'Hotel', 'Show Rooms', 'Sized Partition', 'Airport',\n",
       "       'Commercial', 'Residential', 'Residential Flats', 'Hospital',\n",
       "       'Land', 'General Use', 'Government Housing', 'Unit', 'Sports Club',\n",
       "       'Industrial', 'Warehouse', 'Agricultural', 'Labor Camp',\n",
       "       'Residential / Villas', 'Stacked Townhouses', 'School',\n",
       "       'Commercial / Offices / Residential', 'Shopping Mall',\n",
       "       'Funeral Gathering', 'Residential / Attached Villas',\n",
       "       'Exhbition Center', 'Workshop', 'Building', 'Gymnasium', 'Clinic',\n",
       "       'Multi Store Parcking'], dtype=object)"
      ]
     },
     "execution_count": 72,
     "metadata": {},
     "output_type": "execute_result"
    }
   ],
   "source": [
    "df_ml['Property Sub Type'].unique()"
   ]
  },
  {
   "cell_type": "code",
   "execution_count": 73,
   "id": "0650a067-2425-42a9-87a1-9b1ca125b3d6",
   "metadata": {},
   "outputs": [
    {
     "name": "stdout",
     "output_type": "stream",
     "text": [
      "['Agricultural' 'Airport' 'Building' 'Clinic' 'Commercial'\n",
      " 'Commercial / Offices / Residential' 'Exhbition Center' 'Flat'\n",
      " 'Funeral Gathering' 'General Use' 'Government Housing' 'Gymnasium'\n",
      " 'Hospital' 'Hotel' 'Hotel Apartment' 'Hotel Rooms' 'Industrial'\n",
      " 'Labor Camp' 'Land' 'Multi Store Parcking' 'Office' 'Residential'\n",
      " 'Residential / Attached Villas' 'Residential / Villas'\n",
      " 'Residential Flats' 'School' 'Shop' 'Shopping Mall' 'Show Rooms'\n",
      " 'Sized Partition' 'Sports Club' 'Stacked Townhouses' 'Unit' 'Villa'\n",
      " 'Warehouse' 'Workshop']\n"
     ]
    }
   ],
   "source": [
    "label_encoder = preprocessing.LabelEncoder() \n",
    "label_encoder.fit(df_ml['Property Sub Type'])\n",
    "print(label_encoder.classes_)\n",
    "df_ml.loc[:, 'Property Sub Type'] = label_encoder.transform(df_ml['Property Sub Type'])"
   ]
  },
  {
   "cell_type": "code",
   "execution_count": 77,
   "id": "a87e57d5-1d2b-4e8e-bf87-ebc2643caf2f",
   "metadata": {},
   "outputs": [
    {
     "data": {
      "text/plain": [
       "array(['1', '0', '2', ..., 'CB1-89', '89-197', '339'], dtype=object)"
      ]
     },
     "execution_count": 77,
     "metadata": {},
     "output_type": "execute_result"
    }
   ],
   "source": [
    "df_ml"
   ]
  },
  {
   "cell_type": "code",
   "execution_count": 84,
   "id": "c7eab426-b704-4dc1-aab4-feff1f88c955",
   "metadata": {},
   "outputs": [
    {
     "data": {
      "text/plain": [
       "Parking\n",
       "1               22583\n",
       "0               22144\n",
       "2                2184\n",
       "EU                761\n",
       "1  0              242\n",
       "                ...  \n",
       "DMCC L2-2091        1\n",
       "B-186,B-186A        1\n",
       "EB - 55             1\n",
       "L5R-554             1\n",
       "339                 1\n",
       "Name: count, Length: 13908, dtype: int64"
      ]
     },
     "execution_count": 84,
     "metadata": {},
     "output_type": "execute_result"
    }
   ],
   "source": [
    "df_ml['Parking'].value_counts()"
   ]
  },
  {
   "cell_type": "code",
   "execution_count": 85,
   "id": "02409791-52b2-48cb-a503-341f68cf61f1",
   "metadata": {},
   "outputs": [],
   "source": [
    "# Parking is an issue need more understanding to solve"
   ]
  },
  {
   "cell_type": "code",
   "execution_count": 86,
   "id": "d3940b27-31be-444b-8a56-b08f8e136617",
   "metadata": {},
   "outputs": [
    {
     "data": {
      "text/plain": [
       "array(['Downtown Dubai', nan, 'Burj Al Arab',\n",
       "       'Sports City Swimming Academy', 'Dubai International Airport',\n",
       "       'Burj Khalifa', 'Dubai Cycling Course', 'Motor City',\n",
       "       'IMG World Adventures', 'Expo 2020 Site', 'Hamdan Sports Complex',\n",
       "       'Al Makhtoum International Airport', 'Global Village',\n",
       "       'Dubai Parks and Resorts', 'Jabel Ali'], dtype=object)"
      ]
     },
     "execution_count": 86,
     "metadata": {},
     "output_type": "execute_result"
    }
   ],
   "source": [
    "df_ml['Nearest Landmark'].unique()"
   ]
  },
  {
   "cell_type": "code",
   "execution_count": 87,
   "id": "8738a4f2-5093-42dc-8743-254dd4b1f811",
   "metadata": {},
   "outputs": [
    {
     "name": "stdout",
     "output_type": "stream",
     "text": [
      "['Al Makhtoum International Airport' 'Burj Al Arab' 'Burj Khalifa'\n",
      " 'Downtown Dubai' 'Dubai Cycling Course' 'Dubai International Airport'\n",
      " 'Dubai Parks and Resorts' 'Expo 2020 Site' 'Global Village'\n",
      " 'Hamdan Sports Complex' 'IMG World Adventures' 'Jabel Ali' 'Motor City'\n",
      " 'Sports City Swimming Academy' nan]\n"
     ]
    }
   ],
   "source": [
    "label_encoder = preprocessing.LabelEncoder() \n",
    "label_encoder.fit(df_ml['Nearest Landmark'])\n",
    "print(label_encoder.classes_)\n",
    "df_ml.loc[:, 'Nearest Landmark'] = label_encoder.transform(df_ml['Nearest Landmark'])"
   ]
  },
  {
   "cell_type": "code",
   "execution_count": 88,
   "id": "ed128670-5f62-4af8-b060-620b6f1e16ad",
   "metadata": {},
   "outputs": [
    {
     "data": {
      "text/plain": [
       "array(['Dubai Mall', nan, 'Marina Mall', 'City Centre Mirdif',\n",
       "       'Mall of the Emirates', 'Ibn-e-Battuta Mall'], dtype=object)"
      ]
     },
     "execution_count": 88,
     "metadata": {},
     "output_type": "execute_result"
    }
   ],
   "source": [
    "df_ml['Nearest Mall'].unique()"
   ]
  },
  {
   "cell_type": "code",
   "execution_count": 89,
   "id": "33762daa-5a31-4d41-8dbf-455bf092a0c4",
   "metadata": {},
   "outputs": [
    {
     "name": "stdout",
     "output_type": "stream",
     "text": [
      "['City Centre Mirdif' 'Dubai Mall' 'Ibn-e-Battuta Mall'\n",
      " 'Mall of the Emirates' 'Marina Mall' nan]\n"
     ]
    }
   ],
   "source": [
    "label_encoder = preprocessing.LabelEncoder() \n",
    "label_encoder.fit(df_ml['Nearest Mall'])\n",
    "print(label_encoder.classes_)\n",
    "df_ml.loc[:, 'Nearest Mall'] = label_encoder.transform(df_ml['Nearest Mall'])"
   ]
  },
  {
   "cell_type": "code",
   "execution_count": 90,
   "id": "20db5c40-a1ed-4761-b1c2-d83478413c79",
   "metadata": {},
   "outputs": [
    {
     "data": {
      "text/plain": [
       "array(['Business Bay Metro Station', nan, 'Damac Properties',\n",
       "       'Dubai Internet City', 'Creek Metro Station', 'Mina Seyahi',\n",
       "       'Buj Khalifa Dubai Mall Metro Station',\n",
       "       'Al Jafiliya Metro Station', 'Jumeirah Lakes Towers',\n",
       "       'Palm Jumeirah', 'Jumeirah Beach Resdency',\n",
       "       'First Abu Dhabi Bank Metro Station', 'Dubai Marina',\n",
       "       'UAE Exchange Metro Station', 'Ibn Battuta Metro Station',\n",
       "       'Sharaf Dg Metro Station', 'Nakheel Metro Station',\n",
       "       'Rashidiya Metro Station', 'Harbour Tower',\n",
       "       'Jumeirah Beach Residency', 'Noor Bank Metro Station',\n",
       "       'Al Ghubaiba Metro Station', 'Trade Centre Metro Station',\n",
       "       'Al Sufouh', 'Financial Centre', 'Al Jadaf Metro Station',\n",
       "       'Healthcare City Metro Station', 'Emirates Towers Metro Station',\n",
       "       'Salah Al Din Metro Station', 'Knowledge Village', 'Marina Towers',\n",
       "       'ENERGY Metro Station', 'ADCB Metro Station',\n",
       "       'Etisalat Metro Station', 'Marina Mall Metro Station',\n",
       "       'Al Qiyadah Metro Station', 'Abu Baker Al Siddique Metro Station',\n",
       "       'Abu Hail Metro Station', 'Al Ras Metro Station',\n",
       "       'Al Qusais Metro Station', 'DANUBE Metro Station',\n",
       "       'Emirates Metro Station', 'Deira City Centre',\n",
       "       'Palm Deira Metro Stations', 'Baniyas Square Metro Station',\n",
       "       'Al Fahidi Metro Station', 'Union Metro Station',\n",
       "       'Al Rigga Metro Station', 'Media City', 'STADIUM Metro Station',\n",
       "       'Oud Metha Metro Station', 'Terminal 3 ', 'Al Nahda Metro Station',\n",
       "       'Airport Free Zone', 'GGICO Metro Station',\n",
       "       'Burjuman Metro Station'], dtype=object)"
      ]
     },
     "execution_count": 90,
     "metadata": {},
     "output_type": "execute_result"
    }
   ],
   "source": [
    "df_ml['Nearest Metro'].unique()"
   ]
  },
  {
   "cell_type": "code",
   "execution_count": 96,
   "id": "6c050013-d8f3-47a7-9ee2-a15bb2190b09",
   "metadata": {},
   "outputs": [
    {
     "name": "stdout",
     "output_type": "stream",
     "text": [
      "[0 1 2 3 4 5 6 7 8 9 10 11 12 13 14 15 16 17 18 19 20 21 22 23 24 25 26 27\n",
      " 28 29 30 31 32 33 34 35 36 37 38 39 40 41 42 43 44 45 46 47 48 49 50 51\n",
      " 52 53 54 55]\n"
     ]
    }
   ],
   "source": [
    "label_encoder = preprocessing.LabelEncoder() \n",
    "label_encoder.fit(df_ml['Nearest Metro'])\n",
    "print(label_encoder.classes_)\n",
    "df_ml.loc[:, 'Nearest Metro'] = label_encoder.transform(df_ml['Nearest Metro'])"
   ]
  },
  {
   "cell_type": "code",
   "execution_count": 93,
   "id": "c6889f32-acf5-4a42-871b-54e0024cb8b6",
   "metadata": {},
   "outputs": [
    {
     "data": {
      "text/plain": [
       "array(['AYKON CITY 3', 'Fern', 'SEVEN CITY JLT', ..., 'THE HAVEN',\n",
       "       'VELA by OMNIYAT', 'Terrazzo '], dtype=object)"
      ]
     },
     "execution_count": 93,
     "metadata": {},
     "output_type": "execute_result"
    }
   ],
   "source": [
    "df_ml['Project'].unique()"
   ]
  },
  {
   "cell_type": "code",
   "execution_count": 94,
   "id": "c29937a3-03b7-4626-b527-862efd911d5a",
   "metadata": {},
   "outputs": [
    {
     "name": "stdout",
     "output_type": "stream",
     "text": [
      "[' DAMAC HILLS (2)  - SANCTNARY'\n",
      " ' Mohammed Bin Rashid Al Maktoum City , District One Phase III  , Residences 22'\n",
      " ' QASR SABAH I , II ,III ' ... 'Zubaida Residency' 'barari views'\n",
      " 'joya verde residences dubai']\n"
     ]
    }
   ],
   "source": [
    "label_encoder = preprocessing.LabelEncoder() \n",
    "label_encoder.fit(df_ml['Project'])\n",
    "print(label_encoder.classes_)\n",
    "df_ml.loc[:, 'Project'] = label_encoder.transform(df_ml['Project'])"
   ]
  },
  {
   "cell_type": "code",
   "execution_count": 98,
   "id": "bf92c52a-8dde-44ac-a387-81123478ce08",
   "metadata": {},
   "outputs": [
    {
     "data": {
      "text/plain": [
       "Transaction Type            object\n",
       "Transaction sub type        object\n",
       "Registration type           object\n",
       "Is Free Hold?               object\n",
       "Usage                       object\n",
       "Area                        object\n",
       "Property Type               object\n",
       "Property Sub Type           object\n",
       "Amount                     float64\n",
       "Transaction Size (sq.m)    float64\n",
       "Property Size (sq.m)       float64\n",
       "Room(s)                    float64\n",
       "Parking                     object\n",
       "Nearest Metro               object\n",
       "Nearest Mall                object\n",
       "Nearest Landmark            object\n",
       "No. of Buyer                 int64\n",
       "No. of Seller                int64\n",
       "Project                     object\n",
       "dtype: object"
      ]
     },
     "execution_count": 98,
     "metadata": {},
     "output_type": "execute_result"
    }
   ],
   "source": [
    "# Its not getting updated\n",
    "# label encoding code wrong\n",
    "df_ml.dtypes"
   ]
  },
  {
   "cell_type": "code",
   "execution_count": null,
   "id": "eb03fccb-5186-4320-81bd-81593c7f75c3",
   "metadata": {},
   "outputs": [],
   "source": []
  }
 ],
 "metadata": {
  "kernelspec": {
   "display_name": "Python 3 (ipykernel)",
   "language": "python",
   "name": "python3"
  },
  "language_info": {
   "codemirror_mode": {
    "name": "ipython",
    "version": 3
   },
   "file_extension": ".py",
   "mimetype": "text/x-python",
   "name": "python",
   "nbconvert_exporter": "python",
   "pygments_lexer": "ipython3",
   "version": "3.12.0"
  }
 },
 "nbformat": 4,
 "nbformat_minor": 5
}
